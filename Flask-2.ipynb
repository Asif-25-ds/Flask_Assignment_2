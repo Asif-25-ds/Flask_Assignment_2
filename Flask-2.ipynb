{
 "cells": [
  {
   "cell_type": "code",
   "execution_count": 1,
   "metadata": {},
   "outputs": [],
   "source": [
    "#Answer of ques-1\n",
    "#GET -It is a method in flask by which we can send data to our routed function through a query in searchtab.\n",
    "# POST -It is a method in flask by which we can send out data to our routed function through a form and our data is secured than \n",
    "#       GET method , as in GET our inserted data is visible in query."
   ]
  },
  {
   "cell_type": "code",
   "execution_count": 2,
   "metadata": {},
   "outputs": [],
   "source": [
    "# Answer of ques-2\n",
    "# In Flask, the request object is used to access and handle incoming HTTP requests made by clients (usually web browsers).\n",
    "# (1)When a user submits a form on a web page, the form data is sent to the server in the body of the HTTP request. \n",
    "# The request object allows you to access this form data and process it within your Flask route.\n",
    "# (2)When clients make requests with query parameters the request object allows you to access these parameters."
   ]
  },
  {
   "cell_type": "code",
   "execution_count": 3,
   "metadata": {},
   "outputs": [
    {
     "name": "stdout",
     "output_type": "stream",
     "text": [
      " * Serving Flask app '__main__'\n",
      " * Debug mode: off\n"
     ]
    },
    {
     "name": "stderr",
     "output_type": "stream",
     "text": [
      "WARNING: This is a development server. Do not use it in a production deployment. Use a production WSGI server instead.\n",
      " * Running on all addresses (0.0.0.0)\n",
      " * Running on http://127.0.0.1:5000\n",
      " * Running on http://192.168.173.132:5000\n",
      "Press CTRL+C to quit\n",
      "192.168.173.132 - - [04/Mar/2024 14:13:13] \"GET / HTTP/1.1\" 302 -\n",
      "192.168.173.132 - - [04/Mar/2024 14:13:13] \"GET /1 HTTP/1.1\" 200 -\n"
     ]
    },
    {
     "name": "stdout",
     "output_type": "stream",
     "text": [
      "This is my home page\n"
     ]
    },
    {
     "name": "stderr",
     "output_type": "stream",
     "text": [
      "192.168.173.132 - - [04/Mar/2024 14:13:27] \"GET / HTTP/1.1\" 302 -\n",
      "192.168.173.132 - - [04/Mar/2024 14:13:27] \"GET /1 HTTP/1.1\" 200 -\n"
     ]
    },
    {
     "name": "stdout",
     "output_type": "stream",
     "text": [
      "This is my home page\n"
     ]
    }
   ],
   "source": [
    "# Answer of ques-3\n",
    "# In Flask, the redirect() function is used to redirect the client's web browser to a different URL. This function is commonly used\n",
    "# in web applications to guide users to another page, either within the same application or to an external resource. \n",
    "from flask import Flask,redirect,url_for\n",
    "app=Flask(__name__)\n",
    "@app.route(\"/\")\n",
    "def home():\n",
    "    print(\"This is my home page\")\n",
    "    return redirect(url_for('secpage'))\n",
    "\n",
    "@app.route(\"/1\")\n",
    "def secpage():\n",
    "    return \"<h1><center>You are here because home page redirect you to htis scond page.<br>Enjoy Flask learning.<center></h1>\"\n",
    "\n",
    "if __name__==\"__main__\":\n",
    "    app.run(host=\"0.0.0.0\")\n",
    "    "
   ]
  },
  {
   "cell_type": "code",
   "execution_count": 4,
   "metadata": {},
   "outputs": [],
   "source": [
    "#Answer of ques-4\n",
    "# templates refer to files that contain dynamic content and are used to generate HTML pages dynamically. These templates allow you \n",
    "# to embed Python code within HTML, making it possible to create dynamic web pages that can display data from your Flask application.\n",
    "\n",
    "# The render_template() function in Flask is used to render HTML templates and dynamically generate HTML pages in\n",
    "# response to client requests."
   ]
  },
  {
   "cell_type": "code",
   "execution_count": 5,
   "metadata": {},
   "outputs": [
    {
     "name": "stdout",
     "output_type": "stream",
     "text": [
      " * Serving Flask app '__main__'\n",
      " * Debug mode: off\n"
     ]
    },
    {
     "name": "stderr",
     "output_type": "stream",
     "text": [
      "WARNING: This is a development server. Do not use it in a production deployment. Use a production WSGI server instead.\n",
      " * Running on all addresses (0.0.0.0)\n",
      " * Running on http://127.0.0.1:5000\n",
      " * Running on http://192.168.173.132:5000\n",
      "Press CTRL+C to quit\n",
      "192.168.173.132 - - [04/Mar/2024 16:03:24] \"POST /prtest HTTP/1.1\" 200 -\n"
     ]
    }
   ],
   "source": [
    "#Answer of ques-5\n",
    "from flask import Flask,jsonify,request\n",
    "app=Flask(__name__)\n",
    "@app.route(\"/prtest\", methods=['POST', 'GET'])\n",
    "def ass_fun():\n",
    "    if request.method == 'POST':\n",
    "        # Access JSON data using request.json\n",
    "        n = request.json.get('name')\n",
    "        a = int(request.json.get('id'))\n",
    "        c = request.json.get('college')\n",
    "        details_html = \"Your name - \" + str(n) + \" Your id - \" + str(a) + \" Your college - \" + str(c)\n",
    "        return jsonify(details_html)\n",
    "\n",
    "if __name__==\"__main__\":\n",
    "    app.run(host=\"0.0.0.0\")\n"
   ]
  },
  {
   "cell_type": "markdown",
   "metadata": {},
   "source": [
    "![alt text](<Screenshot (77).png>)"
   ]
  }
 ],
 "metadata": {
  "kernelspec": {
   "display_name": "Python 3",
   "language": "python",
   "name": "python3"
  },
  "language_info": {
   "codemirror_mode": {
    "name": "ipython",
    "version": 3
   },
   "file_extension": ".py",
   "mimetype": "text/x-python",
   "name": "python",
   "nbconvert_exporter": "python",
   "pygments_lexer": "ipython3",
   "version": "3.11.8"
  }
 },
 "nbformat": 4,
 "nbformat_minor": 2
}
